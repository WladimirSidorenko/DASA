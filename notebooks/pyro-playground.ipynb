{
 "cells": [
  {
   "cell_type": "code",
   "execution_count": 3,
   "metadata": {},
   "outputs": [],
   "source": [
    "from torch.distributions import constraints\n",
    "from pyro.distributions.constraints import positive_definite\n",
    "import numpy as np\n",
    "import pyro.distributions as dist\n",
    "import pyro\n",
    "import scipy as sp\n",
    "import torch"
   ]
  },
  {
   "cell_type": "code",
   "execution_count": 4,
   "metadata": {},
   "outputs": [],
   "source": [
    "pyro.enable_validation(True)"
   ]
  },
  {
   "cell_type": "code",
   "execution_count": 5,
   "metadata": {},
   "outputs": [],
   "source": [
    "def is_pos_def(x):\n",
    "    return np.all(np.linalg.eigvals(x) > 0)"
   ]
  },
  {
   "cell_type": "code",
   "execution_count": 6,
   "metadata": {},
   "outputs": [],
   "source": [
    "N = 5\n",
    "D = 3\n",
    "\n",
    "\n",
    "X = np.random.dirichlet([3, 3, 3], (N, D))\n",
    "Y = np.argmax(np.sum(X, axis=1), axis=1)"
   ]
  },
  {
   "cell_type": "code",
   "execution_count": 42,
   "metadata": {},
   "outputs": [],
   "source": [
    "Mu = torch.eye(3).double()\n",
    "Sigma = torch.tensor(np.tile(np.expand_dims(np.eye(3), 0), (3, 1, 1))).double()\n",
    "M = dist.MultivariateNormal(Mu, Sigma)"
   ]
  },
  {
   "cell_type": "code",
   "execution_count": 43,
   "metadata": {},
   "outputs": [
    {
     "data": {
      "text/plain": [
       "(torch.Size([3, 3]), torch.Size([3]), torch.Size([3]))"
      ]
     },
     "execution_count": 43,
     "metadata": {},
     "output_type": "execute_result"
    }
   ],
   "source": [
    "M.shape(), M.batch_shape, M.event_shape"
   ]
  },
  {
   "cell_type": "code",
   "execution_count": 54,
   "metadata": {},
   "outputs": [
    {
     "data": {
      "text/plain": [
       "(tensor([[ 0.2475, -0.7475,  1.0429],\n",
       "         [-0.6714,  1.4041, -0.2527],\n",
       "         [ 0.0152, -0.9228,  1.3325]], dtype=torch.float64),\n",
       " array([2.2599312 +0.j        , 0.36209341+0.17233274j,\n",
       "        0.36209341-0.17233274j]),\n",
       " True)"
      ]
     },
     "execution_count": 54,
     "metadata": {},
     "output_type": "execute_result"
    }
   ],
   "source": [
    "M_prime = M.sample()\n",
    "M_prime, np.linalg.eigvals(M_prime), is_pos_def(M_prime)"
   ]
  },
  {
   "cell_type": "markdown",
   "metadata": {},
   "source": [
    "## Model"
   ]
  },
  {
   "cell_type": "code",
   "execution_count": 14,
   "metadata": {},
   "outputs": [],
   "source": [
    "def model(X, Y):\n",
    "    N, L, Dim = X.shape\n",
    "    for i in pyro.plate(\"sequences\", N):\n",
    "        x = X[i]\n",
    "        y = Y[i]\n",
    "        x_i_0 = torch.zeros(Dim)\n",
    "        for j in pyro.markov(range(L)):\n",
    "            pass"
   ]
  },
  {
   "cell_type": "code",
   "execution_count": 15,
   "metadata": {},
   "outputs": [
    {
     "name": "stdout",
     "output_type": "stream",
     "text": [
      "0\n",
      "2\n"
     ]
    }
   ],
   "source": [
    "model(X, Y)"
   ]
  },
  {
   "cell_type": "code",
   "execution_count": null,
   "metadata": {},
   "outputs": [],
   "source": []
  }
 ],
 "metadata": {
  "kernelspec": {
   "display_name": "dasa",
   "language": "python",
   "name": "dasa"
  },
  "language_info": {
   "codemirror_mode": {
    "name": "ipython",
    "version": 3
   },
   "file_extension": ".py",
   "mimetype": "text/x-python",
   "name": "python",
   "nbconvert_exporter": "python",
   "pygments_lexer": "ipython3",
   "version": "3.8.5"
  }
 },
 "nbformat": 4,
 "nbformat_minor": 4
}
